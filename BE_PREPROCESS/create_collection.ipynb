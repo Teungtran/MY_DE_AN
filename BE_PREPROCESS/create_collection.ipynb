{
 "cells": [
  {
   "cell_type": "code",
   "execution_count": 1,
   "id": "86db0659",
   "metadata": {},
   "outputs": [
    {
     "name": "stderr",
     "output_type": "stream",
     "text": [
      "C:\\Users\\Admin\\AppData\\Local\\Temp\\ipykernel_25000\\1035858526.py:24: DeprecationWarning: `recreate_collection` method is deprecated and will be removed in the future. Use `collection_exists` to check collection existence and `create_collection` instead.\n",
      "  client.recreate_collection(\n"
     ]
    },
    {
     "name": "stdout",
     "output_type": "stream",
     "text": [
      "✅ Collection 'FPT_Policy' with vector size 1536 created successfully!\n"
     ]
    }
   ],
   "source": [
    "import os\n",
    "from qdrant_client import QdrantClient\n",
    "from qdrant_client.http.models import Distance, VectorParams\n",
    "\n",
    "# Load environment variables\n",
    "QDRANT_URL = os.getenv(\"QDRANT_URL\")\n",
    "QDRANT_API_KEY = os.getenv(\"QDRANT_API_KEY\")\n",
    "\n",
    "# Safety check\n",
    "if not QDRANT_URL or not QDRANT_API_KEY:\n",
    "    raise ValueError(\"❌ Missing QDRANT_URL or QDRANT_API_KEY in environment variables.\")\n",
    "\n",
    "# Initialize Qdrant client\n",
    "client = QdrantClient(\n",
    "    url=QDRANT_URL,\n",
    "    api_key=QDRANT_API_KEY,\n",
    ")\n",
    "\n",
    "# Define collection parameters\n",
    "collection_name = \"FPT_Policy\"\n",
    "vector_size = 1536\n",
    "\n",
    "# Create the collection\n",
    "client.recreate_collection(\n",
    "    collection_name=collection_name,\n",
    "    vectors_config=VectorParams(\n",
    "        size=vector_size,\n",
    "        distance=Distance.COSINE  # or Distance.EUCLID or Distance.DOT\n",
    "    )\n",
    ")\n",
    "\n",
    "print(f\"✅ Collection '{collection_name}' with vector size {vector_size} created successfully!\")\n"
   ]
  }
 ],
 "metadata": {
  "kernelspec": {
   "display_name": "dean_env",
   "language": "python",
   "name": "python3"
  },
  "language_info": {
   "codemirror_mode": {
    "name": "ipython",
    "version": 3
   },
   "file_extension": ".py",
   "mimetype": "text/x-python",
   "name": "python",
   "nbconvert_exporter": "python",
   "pygments_lexer": "ipython3",
   "version": "3.11.9"
  }
 },
 "nbformat": 4,
 "nbformat_minor": 5
}
