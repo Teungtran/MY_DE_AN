{
 "cells": [
  {
   "cell_type": "code",
   "execution_count": null,
   "id": "918d74c1",
   "metadata": {},
   "outputs": [
    {
     "name": "stdout",
     "output_type": "stream",
     "text": [
      "VNA_history\n"
     ]
    }
   ],
   "source": [
    "import boto3\n",
    "import datetime\n",
    "from typing import Dict, List, Any, Optional\n",
    "from decimal import Decimal\n",
    "import uuid\n",
    "from datetime import timedelta\n",
    "import os \n",
    "from boto3.dynamodb.conditions import Attr,Key\n",
    "dynamodb = boto3.resource(\n",
    "    'dynamodb',\n",
    "    endpoint_url=os.getenv(\"DYNAMO_URL\"),  \n",
    "    region_name=os.getenv(\"REGION_NAME\")\n",
    ")\n",
    "\n",
    "# List tables\n",
    "for table in dynamodb.tables.all():\n",
    "    print(table.name)\n"
   ]
  },
  {
   "cell_type": "code",
   "execution_count": null,
   "id": "b3d5471d",
   "metadata": {},
   "outputs": [],
   "source": [
    "TABLE_NAME = os.getenv(\"TABLE_NAME\")\n",
    "table = None"
   ]
  },
  {
   "cell_type": "code",
   "execution_count": null,
   "id": "d30d4b84",
   "metadata": {},
   "outputs": [],
   "source": [
    "table = boto3.resource(\n",
    "    'dynamodb',\n",
    "    endpoint_url=os.getenv(\"DYNAMO_URL\"),\n",
    "    region_name=os.getenv(\"REGION_NAME\")\n",
    ").Table(os.getenv(\"TABLE_NAME\"))"
   ]
  },
  {
   "cell_type": "code",
   "execution_count": null,
   "id": "93c0239f",
   "metadata": {},
   "outputs": [],
   "source": [
    "# def create_table(table_name=TABLE_NAME):\n",
    "#     \"\"\"Create the DynamoDB table with appropriate keys and indexes.\"\"\"\n",
    "#     global table\n",
    "    \n",
    "#     if table_name in [table.name for table in dynamodb.tables.all()]:\n",
    "#         print(f\"Table {table_name} already exists\")\n",
    "#         table = dynamodb.Table(table_name)\n",
    "#         return table\n",
    "        \n",
    "#     print(f\"Creating table {table_name}\")\n",
    "#     table = dynamodb.create_table(\n",
    "#         TableName=table_name,\n",
    "#         KeySchema=[\n",
    "#             {\n",
    "#                 'AttributeName': 'id',\n",
    "#                 'KeyType': 'HASH'  \n",
    "#             }\n",
    "#         ],\n",
    "#         AttributeDefinitions=[\n",
    "#             {\n",
    "#                 'AttributeName': 'id',\n",
    "#                 'AttributeType': 'S'\n",
    "#             },\n",
    "#             {\n",
    "#                 'AttributeName': 'conversation_id',\n",
    "#                 'AttributeType': 'S'\n",
    "#             },\n",
    "#             {\n",
    "#                 'AttributeName': 'created_at',\n",
    "#                 'AttributeType': 'S'\n",
    "#             }\n",
    "#         ],\n",
    "#         GlobalSecondaryIndexes=[\n",
    "#             {\n",
    "#                 'IndexName': 'conversation_index',\n",
    "#                 'KeySchema': [\n",
    "#                     {\n",
    "#                         'AttributeName': 'conversation_id',\n",
    "#                         'KeyType': 'HASH'\n",
    "#                     },\n",
    "#                     {\n",
    "#                         'AttributeName': 'created_at',\n",
    "#                         'KeyType': 'RANGE'\n",
    "#                     }\n",
    "#                 ],\n",
    "#                 'Projection': {\n",
    "#                     'ProjectionType': 'ALL'\n",
    "#                 },\n",
    "#                 'ProvisionedThroughput': {\n",
    "#                     'ReadCapacityUnits': 5,\n",
    "#                     'WriteCapacityUnits': 5\n",
    "#                 }\n",
    "#             }\n",
    "#         ],\n",
    "#         ProvisionedThroughput={\n",
    "#             'ReadCapacityUnits': 5,\n",
    "#             'WriteCapacityUnits': 5\n",
    "#         }\n",
    "#     )\n",
    "    \n",
    "#     table.meta.client.get_waiter('table_exists').wait(TableName=table_name)\n",
    "#     print(f\"Table {table_name} created successfully\")\n",
    "    \n",
    "#     return table"
   ]
  },
  {
   "cell_type": "code",
   "execution_count": null,
   "id": "96434cff",
   "metadata": {},
   "outputs": [],
   "source": [
    "def check_table_exists(dynamodb, table_name):\n",
    "    \"\"\"Check if the table exists in DynamoDB.\"\"\"\n",
    "    try:\n",
    "        existing_tables = [t.name for t in dynamodb.tables.all()]\n",
    "        exists = table_name in existing_tables\n",
    "        print(f\"Table '{table_name}' exists: {exists}\")\n",
    "        return exists\n",
    "    except Exception as e:\n",
    "        print(f\"Error checking table existence: {str(e)}\")\n",
    "        return False"
   ]
  },
  {
   "cell_type": "code",
   "execution_count": null,
   "id": "8dacd896",
   "metadata": {},
   "outputs": [],
   "source": [
    "def save_chat_history(\n",
    "    conversation_id: str,\n",
    "    user_input: str,\n",
    "    prompt_token: Optional[int] = None,\n",
    "    completion_token: Optional[int] = None,\n",
    "    total_token: Optional[int] = None,\n",
    "    start_time: Optional[datetime.datetime] = None,\n",
    "    end_time: Optional[datetime.datetime] = None,\n",
    "    execution_time: Optional[Decimal] = None,\n",
    "    response: Optional[str] = None,\n",
    "    category_id: Optional[str] = None,\n",
    "    category_name: Optional[str] = None,\n",
    "    source: Optional[Dict[str, Any]] = None\n",
    ") -> Dict[str, Any]:\n",
    "    if not check_table_exists(dynamodb, TABLE_NAME):\n",
    "        raise Exception(f\"DynamoDB table '{TABLE_NAME}' does not exist.\")\n",
    "    now = datetime.datetime.now()\n",
    "    start_time = start_time or now\n",
    "    end_time = end_time or now\n",
    "    execution_time = execution_time or Decimal((end_time - start_time).total_seconds())\n",
    "\n",
    "    category_code = {\n",
    "        \"category_id\": category_id or \"general\",\n",
    "        \"category_name\": category_name or \"general\"\n",
    "    }\n",
    "\n",
    "    question_id = f\"user-{conversation_id}-{int(start_time.timestamp())}\"\n",
    "    user_id = str(uuid.uuid4())\n",
    "    ai_id = str(uuid.uuid4())\n",
    "\n",
    "    # Save user message\n",
    "    user_item = {\n",
    "        \"id\": user_id,\n",
    "        \"conversation_id\": conversation_id,\n",
    "        \"question_id\": question_id,\n",
    "        \"type\": \"HUMAN-MESSAGE\",\n",
    "        \"user_content\": user_input,\n",
    "        \"created_at\": start_time.isoformat(),\n",
    "        \"updated_at\": end_time.isoformat(),\n",
    "        \"prompt_token\": prompt_token,\n",
    "        \"completion_token\": completion_token,\n",
    "        \"total_token\": total_token,\n",
    "        \"responded_in_s\": execution_time,\n",
    "        \"category_code\": category_code\n",
    "    }\n",
    "    table.put_item(Item=user_item)\n",
    "\n",
    "    if response:\n",
    "        ai_item = {\n",
    "            \"id\": ai_id,\n",
    "            \"conversation_id\": conversation_id,\n",
    "            \"question_id\": question_id,\n",
    "            \"type\": \"AI-MESSAGE\",\n",
    "            \"ai_content\": response,\n",
    "            \"created_at\": start_time.isoformat(),\n",
    "            \"updated_at\": end_time.isoformat(),\n",
    "            \"prompt_token\": prompt_token,\n",
    "            \"completion_token\": completion_token,\n",
    "            \"total_token\": total_token,\n",
    "            \"responded_in_s\": execution_time,\n",
    "            \"category_code\": category_code\n",
    "        }\n",
    "        if source:\n",
    "            ai_item[\"source\"] = source\n",
    "\n",
    "        table.put_item(Item=ai_item)\n",
    "\n",
    "    return {\n",
    "        \"conversation_id\": conversation_id,\n",
    "        \"question_id\": question_id\n",
    "    }"
   ]
  },
  {
   "cell_type": "code",
   "execution_count": null,
   "id": "a67a9a48",
   "metadata": {},
   "outputs": [],
   "source": [
    "def get_conversation_history(conversation_id: str, limit: int = 50) -> List[Dict[str, Any]]:\n",
    "    \"\"\"\n",
    "    Retrieve and format conversation history where each message is a separate row.\n",
    "\n",
    "    Args:\n",
    "        conversation_id: ID of the conversation to retrieve.\n",
    "        limit: Max number of messages to return.\n",
    "\n",
    "    Returns:\n",
    "        List of formatted message dictionaries.\n",
    "    \"\"\"\n",
    "\n",
    "\n",
    "    response = table.query(\n",
    "        IndexName='conversation_index',\n",
    "        KeyConditionExpression=Key('conversation_id').eq(conversation_id),\n",
    "        ScanIndexForward=True,  \n",
    "        Limit=limit\n",
    "    )\n",
    "\n",
    "    items = [item for item in response.get('Items', []) if item.get(\"type\") in [\"HUMAN-MESSAGE\", \"AI-MESSAGE\"]]\n",
    "\n",
    "    # Group by question_id and sort: HUMAN first, then AI\n",
    "    grouped = {}\n",
    "    for item in items:\n",
    "        qid = item['question_id']\n",
    "        grouped.setdefault(qid, []).append(item)\n",
    "\n",
    "    formatted = []\n",
    "    for qid, msgs in grouped.items():\n",
    "        msgs_sorted = sorted(msgs, key=lambda x: 0 if x['type'] == \"HUMAN-MESSAGE\" else 1)\n",
    "        for msg in msgs_sorted:\n",
    "            content = msg.get(\"user_content\") if msg['type'] == \"HUMAN-MESSAGE\" else msg.get(\"ai_content\")\n",
    "            category_code = msg.get(\"category_code\", {})\n",
    "            formatted.append({\n",
    "                \"id\": msg.get(\"id\"),\n",
    "                \"ConversationID\": msg.get(\"conversation_id\"),\n",
    "                \"type\": msg.get(\"type\"),\n",
    "                \"QuestionID\": msg.get(\"question_id\"),\n",
    "                \"Content\": content,\n",
    "                \"Created_at\": msg.get(\"created_at\"),\n",
    "                \"Cpdated_at\": msg.get(\"updated_at\"),\n",
    "                \"CategoryID\": category_code.get(\"category_id\", \"general\"),\n",
    "                \"CategoryName\": category_code.get(\"category_name\", \"general\"),\n",
    "                \"tokens\": {\n",
    "                    \"prompt\": msg.get(\"prompt_token\"),\n",
    "                    \"completion\": msg.get(\"completion_token\"),\n",
    "                    \"total\": msg.get(\"total_token\"),\n",
    "                },\n",
    "                \"ResponseTime\": msg.get(\"responded_in_s\"),\n",
    "                \"Source\": msg.get(\"source\", None)\n",
    "            })\n",
    "    print(f\"Retrieved {len(formatted)} messages for conversation {conversation_id}\")\n",
    "    return formatted"
   ]
  },
  {
   "cell_type": "code",
   "execution_count": null,
   "id": "7fccc3cf",
   "metadata": {},
   "outputs": [],
   "source": [
    "def delete_conversation(conversation_id: str) -> int:\n",
    "    \"\"\"\n",
    "    Delete all messages in a conversation\n",
    "    Args:\n",
    "        conversation_id: ID of the conversation to delete\n",
    "    Returns:\n",
    "        Number of messages deleted\n",
    "    \"\"\"\n",
    "\n",
    "\n",
    "    deleted_count = 0\n",
    "    last_evaluated_key = None\n",
    "\n",
    "    while True:\n",
    "        query_kwargs = {\n",
    "            \"IndexName\": \"conversation_index\",\n",
    "            \"KeyConditionExpression\": boto3.dynamodb.conditions.Key('conversation_id').eq(conversation_id),\n",
    "        }\n",
    "        if last_evaluated_key:\n",
    "            query_kwargs[\"ExclusiveStartKey\"] = last_evaluated_key\n",
    "\n",
    "        response = table.query(**query_kwargs)\n",
    "        items = response.get('Items', [])\n",
    "\n",
    "        for item in items:\n",
    "            table.delete_item(Key={\"id\": item['id']})\n",
    "            deleted_count += 1\n",
    "            print(f\"Deleted item with ID: {item['id']}\")\n",
    "\n",
    "        if 'LastEvaluatedKey' in response:\n",
    "            last_evaluated_key = response['LastEvaluatedKey']\n",
    "        else:\n",
    "            break\n",
    "\n",
    "    print(f\"Deleted a total of {deleted_count} messages from conversation {conversation_id}\")\n",
    "    return deleted_count\n"
   ]
  },
  {
   "cell_type": "code",
   "execution_count": null,
   "id": "e883fb8f",
   "metadata": {},
   "outputs": [],
   "source": [
    "def list_conversation(\n",
    "    conversation_id: str,\n",
    "    limit: Optional[int] = None,\n",
    "    days: int = 7\n",
    ") -> List[Dict[str, Any]]:\n",
    "    \"\"\"\n",
    "    Retrieve recent conversation messages (one per row), sorted newest first.\n",
    "\n",
    "    Args:\n",
    "        conversation_id: The ID of the conversation to retrieve history for.\n",
    "        limit: Optional number of most recent items to return.\n",
    "        days: Number of days to look back (default: 7 days), used if limit is None.\n",
    "\n",
    "    Returns:\n",
    "        List of individual message items sorted by created_at descending.\n",
    "    \"\"\"\n",
    "\n",
    "\n",
    "    # Determine query parameters\n",
    "    if limit is None:\n",
    "        # Calculate cutoff date based on the 'days' parameter\n",
    "        cutoff_date = (datetime.datetime.now() - datetime.timedelta(days=days)).isoformat()\n",
    "        response = table.query(\n",
    "            IndexName='conversation_index',\n",
    "            KeyConditionExpression=Key('conversation_id').eq(conversation_id) &\n",
    "                                Key('created_at').gte(cutoff_date),\n",
    "            ScanIndexForward=False  \n",
    "        )\n",
    "    else:\n",
    "        response = table.query(\n",
    "            IndexName='conversation_index',\n",
    "            KeyConditionExpression=Key('conversation_id').eq(conversation_id),\n",
    "            ScanIndexForward=False,  \n",
    "            Limit=limit\n",
    "        )\n",
    "\n",
    "    items = response.get('Items', [])\n",
    "    formatted = []\n",
    "    for msg in items:\n",
    "        content = msg.get(\"user_content\") if msg.get(\"type\") == \"HUMAN-MESSAGE\" else msg.get(\"ai_content\")\n",
    "        category_code = msg.get(\"category_code\", {})\n",
    "        formatted.append({\n",
    "                \"id\": msg.get(\"id\"),\n",
    "                \"ConversationID\": msg.get(\"conversation_id\"),\n",
    "                \"type\": msg.get(\"type\"),\n",
    "                \"QuestionID\": msg.get(\"question_id\"),\n",
    "                \"Content\": content,\n",
    "                \"Created_at\": msg.get(\"created_at\"),\n",
    "                \"Cpdated_at\": msg.get(\"updated_at\"),\n",
    "                \"CategoryID\": category_code.get(\"category_id\", \"general\"),\n",
    "                \"CategoryName\": category_code.get(\"category_name\", \"general\"),\n",
    "                \"tokens\": {\n",
    "                    \"prompt\": msg.get(\"prompt_token\"),\n",
    "                    \"completion\": msg.get(\"completion_token\"),\n",
    "                    \"total\": msg.get(\"total_token\"),\n",
    "                },\n",
    "                \"ResponseTime\": msg.get(\"responded_in_s\"),\n",
    "                \"Source\": msg.get(\"source\", None)\n",
    "        })\n",
    "\n",
    "    print(f\"Retrieved {len(formatted)} messages for conversation {conversation_id}\")\n",
    "    return formatted"
   ]
  },
  {
   "cell_type": "code",
   "execution_count": null,
   "id": "1fb68dc8",
   "metadata": {},
   "outputs": [
    {
     "name": "stdout",
     "output_type": "stream",
     "text": [
      "Table VNA_history already exists\n"
     ]
    },
    {
     "data": {
      "text/plain": [
       "dynamodb.Table(name='VNA_history')"
      ]
     },
     "execution_count": 20,
     "metadata": {},
     "output_type": "execute_result"
    }
   ],
   "source": [
    "check = check_table_exists(dynamodb,table_name=TABLE_NAME)\n",
    "check\n"
   ]
  },
  {
   "cell_type": "code",
   "execution_count": null,
   "id": "d3f0dcd1",
   "metadata": {},
   "outputs": [
    {
     "data": {
      "text/plain": [
       "{'conversation_id': 'conv-123', 'question_id': 'user-conv-123-1745228756'}"
      ]
     },
     "execution_count": 21,
     "metadata": {},
     "output_type": "execute_result"
    }
   ],
   "source": [
    "# save_chat_history(\n",
    "#     conversation_id=\"conv-123\",\n",
    "#     user_input=\"How can I learn Python?\",\n",
    "#     response=\"Python is a great language to learn. Start with tutorials and practice coding daily.\",\n",
    "#     start_time=datetime.datetime.now() - datetime.timedelta(minutes=5),\n",
    "#     end_time=datetime.datetime.now(),\n",
    "#     prompt_token=10,\n",
    "#     completion_token=30,\n",
    "#     total_token=40\n"
   ]
  },
  {
   "cell_type": "code",
   "execution_count": 8,
   "id": "d0fd885d",
   "metadata": {},
   "outputs": [
    {
     "name": "stdout",
     "output_type": "stream",
     "text": [
      "Table VNA_history already exists\n",
      "Retrieved 2 messages for conversation trungnnn\n",
      "Conversation history: [{'id': 'b6c80be2-a382-4e7e-b8a4-93470c7e25a1', 'type': 'HUMAN-MESSAGE', 'question_id': 'user-trungnnn-1745250450', 'content': 'hanh ly ky gui bao can', 'created_at': '2025-04-21T15:47:30.443971+00:00', 'updated_at': '2025-04-21T15:47:41.689154+00:00', 'category_id': 'general', 'category_name': 'general', 'tokens': {'prompt': Decimal('2969'), 'completion': Decimal('406'), 'total': Decimal('3375')}, 'response_time': Decimal('11.245183'), 'source': None}, {'id': '451b3ca1-f60f-43e3-bc62-70262d6f58c7', 'type': 'AI-MESSAGE', 'question_id': 'user-trungnnn-1745250450', 'content': 'Hành lý ký gửi miễn cước trên các chuyến bay của Vietnam Airlines được quy định như sau:\\n\\n### **Kích thước và trọng lượng tối đa**\\n- Tổng kích thước tối đa 3 chiều (dài x rộng x cao) của một kiện hành lý ký gửi không vượt quá **158cm**.\\n- Trọng lượng tối đa tùy thuộc vào hạng vé và hành trình:\\n\\n### **Quy định theo hành trình**\\n#### **Hành trình nội địa Việt Nam**\\n- **Hạng Thương gia**: 1 kiện, tối đa **32kg**.\\n- **Hạng Phổ thông đặc biệt**: 1 kiện, tối đa **32kg**.\\n- **Hạng Phổ thông**: 1 kiện, tối đa **23kg**.\\n\\n#### **Hành trình giữa các nước Đông Nam Á**\\n- **Hạng Phổ thông đặc biệt**: 1 kiện, tối đa **23kg**.\\n\\n#### **Hành trình giữa Việt Nam và Hồng Kông/Trung Quốc/Đài Loan/Hàn Quốc**\\n- **Hạng Thương gia**: 2 kiện, mỗi kiện tối đa **32kg**.\\n- **Hạng Phổ thông đặc biệt**: 2 kiện, mỗi kiện tối đa **23kg**.\\n\\n### **Lưu ý**\\n- Nếu hành lý vượt quá tiêu chuẩn miễn cước, bạn có thể mua thêm hành lý ký gửi qua [trang web của Vietnam Airlines](https://www.vietnamairlines.com/vi/travel-information/baggage/excess-baggage).\\n- Để kiểm tra tiêu chuẩn hành lý cụ thể cho vé đã mua, bạn có thể truy cập mục [Quản lý đặt chỗ](https://www.vietnamairlines.com/vn/vi/home?type=managebooking).\\n\\nBạn có cần hỗ trợ thêm thông tin về hành lý ký gửi không?', 'created_at': '2025-04-21T15:47:30.443971+00:00', 'updated_at': '2025-04-21T15:47:41.689154+00:00', 'category_id': 'general', 'category_name': 'general', 'tokens': {'prompt': Decimal('2969'), 'completion': Decimal('406'), 'total': Decimal('3375')}, 'response_time': Decimal('11.245183'), 'source': ['https://www.vietnamairlines.com/vn/vi/travel-information/baggage/baggage-allowance-checked-baggage', 'https://www.vietnamairlines.com/vn/vi/travel-information/check-in/kiosk-check-in', 'https://www.vietnamairlines.com/vn/vi/travel-information/check-in/online-check-in', 'https://www.vietnamairlines.com/vn/vi/travel-information/baggage/special-baggage/bike-and-sizeable-baggage']}]\n"
     ]
    }
   ],
   "source": [
    "history = get_conversation_history(\"trungnnn\")\n",
    "print(\"Conversation history:\", history)"
   ]
  },
  {
   "cell_type": "code",
   "execution_count": 9,
   "id": "4de14fbe",
   "metadata": {},
   "outputs": [
    {
     "name": "stdout",
     "output_type": "stream",
     "text": [
      "Retrieved 2 messages for conversation trungnnn\n"
     ]
    },
    {
     "data": {
      "text/plain": [
       "[{'id': 'b6c80be2-a382-4e7e-b8a4-93470c7e25a1',\n",
       "  'type': 'HUMAN-MESSAGE',\n",
       "  'question_id': 'user-trungnnn-1745250450',\n",
       "  'content': 'hanh ly ky gui bao can',\n",
       "  'created_at': '2025-04-21T15:47:30.443971+00:00',\n",
       "  'updated_at': '2025-04-21T15:47:41.689154+00:00',\n",
       "  'category_id': 'general',\n",
       "  'category_name': 'general',\n",
       "  'tokens': {'prompt': Decimal('2969'),\n",
       "   'completion': Decimal('406'),\n",
       "   'total': Decimal('3375')},\n",
       "  'response_time': Decimal('11.245183'),\n",
       "  'source': None},\n",
       " {'id': '451b3ca1-f60f-43e3-bc62-70262d6f58c7',\n",
       "  'type': 'AI-MESSAGE',\n",
       "  'question_id': 'user-trungnnn-1745250450',\n",
       "  'content': 'Hành lý ký gửi miễn cước trên các chuyến bay của Vietnam Airlines được quy định như sau:\\n\\n### **Kích thước và trọng lượng tối đa**\\n- Tổng kích thước tối đa 3 chiều (dài x rộng x cao) của một kiện hành lý ký gửi không vượt quá **158cm**.\\n- Trọng lượng tối đa tùy thuộc vào hạng vé và hành trình:\\n\\n### **Quy định theo hành trình**\\n#### **Hành trình nội địa Việt Nam**\\n- **Hạng Thương gia**: 1 kiện, tối đa **32kg**.\\n- **Hạng Phổ thông đặc biệt**: 1 kiện, tối đa **32kg**.\\n- **Hạng Phổ thông**: 1 kiện, tối đa **23kg**.\\n\\n#### **Hành trình giữa các nước Đông Nam Á**\\n- **Hạng Phổ thông đặc biệt**: 1 kiện, tối đa **23kg**.\\n\\n#### **Hành trình giữa Việt Nam và Hồng Kông/Trung Quốc/Đài Loan/Hàn Quốc**\\n- **Hạng Thương gia**: 2 kiện, mỗi kiện tối đa **32kg**.\\n- **Hạng Phổ thông đặc biệt**: 2 kiện, mỗi kiện tối đa **23kg**.\\n\\n### **Lưu ý**\\n- Nếu hành lý vượt quá tiêu chuẩn miễn cước, bạn có thể mua thêm hành lý ký gửi qua [trang web của Vietnam Airlines](https://www.vietnamairlines.com/vi/travel-information/baggage/excess-baggage).\\n- Để kiểm tra tiêu chuẩn hành lý cụ thể cho vé đã mua, bạn có thể truy cập mục [Quản lý đặt chỗ](https://www.vietnamairlines.com/vn/vi/home?type=managebooking).\\n\\nBạn có cần hỗ trợ thêm thông tin về hành lý ký gửi không?',\n",
       "  'created_at': '2025-04-21T15:47:30.443971+00:00',\n",
       "  'updated_at': '2025-04-21T15:47:41.689154+00:00',\n",
       "  'category_id': 'general',\n",
       "  'category_name': 'general',\n",
       "  'tokens': {'prompt': Decimal('2969'),\n",
       "   'completion': Decimal('406'),\n",
       "   'total': Decimal('3375')},\n",
       "  'response_time': Decimal('11.245183'),\n",
       "  'source': ['https://www.vietnamairlines.com/vn/vi/travel-information/baggage/baggage-allowance-checked-baggage',\n",
       "   'https://www.vietnamairlines.com/vn/vi/travel-information/check-in/kiosk-check-in',\n",
       "   'https://www.vietnamairlines.com/vn/vi/travel-information/check-in/online-check-in',\n",
       "   'https://www.vietnamairlines.com/vn/vi/travel-information/baggage/special-baggage/bike-and-sizeable-baggage']}]"
      ]
     },
     "execution_count": 9,
     "metadata": {},
     "output_type": "execute_result"
    }
   ],
   "source": [
    "list_conversation(\"trungnnn\")\n"
   ]
  },
  {
   "cell_type": "code",
   "execution_count": 12,
   "id": "feb7e9d2",
   "metadata": {},
   "outputs": [
    {
     "name": "stdout",
     "output_type": "stream",
     "text": [
      "Deleted item with ID: b5bacc12-4bca-4c62-8587-9f05c93b68d4\n",
      "Deleted item with ID: f149c623-f17d-4cc5-b68a-7e0f3b4d309b\n",
      "Deleted a total of 2 messages from conversation conv-123\n"
     ]
    },
    {
     "data": {
      "text/plain": [
       "2"
      ]
     },
     "execution_count": 12,
     "metadata": {},
     "output_type": "execute_result"
    }
   ],
   "source": [
    "delete_conversation(\"conv-123\")# "
   ]
  }
 ],
 "metadata": {
  "kernelspec": {
   "display_name": "my_env",
   "language": "python",
   "name": "python3"
  },
  "language_info": {
   "codemirror_mode": {
    "name": "ipython",
    "version": 3
   },
   "file_extension": ".py",
   "mimetype": "text/x-python",
   "name": "python",
   "nbconvert_exporter": "python",
   "pygments_lexer": "ipython3",
   "version": "3.11.9"
  }
 },
 "nbformat": 4,
 "nbformat_minor": 5
}
